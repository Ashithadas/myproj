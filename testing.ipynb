{
 "cells": [
  {
   "cell_type": "code",
   "execution_count": 1,
   "metadata": {},
   "outputs": [
    {
     "name": "stderr",
     "output_type": "stream",
     "text": [
      "Using TensorFlow backend.\n"
     ]
    }
   ],
   "source": [
    "from PIL import Image\n",
    "from keras.models import load_model\n",
    "import numpy as np\n",
    "from keras.applications import xception\n",
    "import imutils\n",
    "import cv2\n",
    "\n"
   ]
  },
  {
   "cell_type": "code",
   "execution_count": 2,
   "metadata": {},
   "outputs": [
    {
     "name": "stdout",
     "output_type": "stream",
     "text": [
      "WARNING:tensorflow:From /home/user/anaconda3/lib/python3.7/site-packages/tensorflow/python/framework/op_def_library.py:263: colocate_with (from tensorflow.python.framework.ops) is deprecated and will be removed in a future version.\n",
      "Instructions for updating:\n",
      "Colocations handled automatically by placer.\n",
      "1/1 [==============================] - 2s 2s/step\n",
      "WARNING:tensorflow:From /home/user/anaconda3/lib/python3.7/site-packages/tensorflow/python/ops/math_ops.py:3066: to_int32 (from tensorflow.python.ops.math_ops) is deprecated and will be removed in a future version.\n",
      "Instructions for updating:\n",
      "Use tf.cast instead.\n"
     ]
    },
    {
     "ename": "NameError",
     "evalue": "name 'test_targets' is not defined",
     "output_type": "error",
     "traceback": [
      "\u001b[0;31m---------------------------------------------------------------------------\u001b[0m",
      "\u001b[0;31mNameError\u001b[0m                                 Traceback (most recent call last)",
      "\u001b[0;32m<ipython-input-2-e32268d61021>\u001b[0m in \u001b[0;36m<module>\u001b[0;34m\u001b[0m\n\u001b[1;32m     15\u001b[0m \u001b[0mimg_data\u001b[0m\u001b[0;34m\u001b[0m\u001b[0;34m\u001b[0m\u001b[0m\n\u001b[1;32m     16\u001b[0m \u001b[0;31m#test accuracy\u001b[0m\u001b[0;34m\u001b[0m\u001b[0;34m\u001b[0m\u001b[0;34m\u001b[0m\u001b[0m\n\u001b[0;32m---> 17\u001b[0;31m \u001b[0mtest_accuracy\u001b[0m \u001b[0;34m=\u001b[0m \u001b[0;36m100\u001b[0m\u001b[0;34m*\u001b[0m\u001b[0mnp\u001b[0m\u001b[0;34m.\u001b[0m\u001b[0msum\u001b[0m\u001b[0;34m(\u001b[0m\u001b[0mnp\u001b[0m\u001b[0;34m.\u001b[0m\u001b[0marray\u001b[0m\u001b[0;34m(\u001b[0m\u001b[0mxception_predictions\u001b[0m\u001b[0;34m)\u001b[0m\u001b[0;34m==\u001b[0m\u001b[0mnp\u001b[0m\u001b[0;34m.\u001b[0m\u001b[0margmax\u001b[0m\u001b[0;34m(\u001b[0m\u001b[0mtest_targets\u001b[0m\u001b[0;34m,\u001b[0m \u001b[0maxis\u001b[0m\u001b[0;34m=\u001b[0m\u001b[0;36m1\u001b[0m\u001b[0;34m)\u001b[0m\u001b[0;34m)\u001b[0m\u001b[0;34m/\u001b[0m\u001b[0mlen\u001b[0m\u001b[0;34m(\u001b[0m\u001b[0mxception_predictions\u001b[0m\u001b[0;34m)\u001b[0m\u001b[0;34m\u001b[0m\u001b[0;34m\u001b[0m\u001b[0m\n\u001b[0m\u001b[1;32m     18\u001b[0m \u001b[0mprint\u001b[0m\u001b[0;34m(\u001b[0m\u001b[0;34m'Test accuracy: %.4f%%'\u001b[0m \u001b[0;34m%\u001b[0m \u001b[0mtest_accuracy\u001b[0m\u001b[0;34m)\u001b[0m\u001b[0;34m\u001b[0m\u001b[0;34m\u001b[0m\u001b[0m\n\u001b[1;32m     19\u001b[0m \u001b[0;34m\u001b[0m\u001b[0m\n",
      "\u001b[0;31mNameError\u001b[0m: name 'test_targets' is not defined"
     ]
    }
   ],
   "source": [
    "test_img_path = \"_0_187.jpeg\"\n",
    "img_data=Image.open(test_img_path)\n",
    "img=img_data.resize((224,224), Image.ANTIALIAS)\n",
    "x = np.array(img)\n",
    "y=np.expand_dims(x, axis=0)\n",
    "image = y.astype('float32')/255\n",
    "#Extract Xception features and weights \n",
    "xception_bottleneck = xception.Xception(weights='imagenet', include_top=False, input_shape = (224, 224, 3))\n",
    "preds = xception_bottleneck.predict(image, batch_size=32, verbose=1)\n",
    "model = load_model('saved_models/weights.best.test.hdf5')\n",
    "xception_predictions = [np.argmax(model.predict(np.expand_dims(feature, axis=0))) for feature in preds]\n",
    "xception_predictions[0]\n",
    "classes = ['Eosinophil','Lymphocyte','Monocyte','Neutrophil']\n",
    "name=classes[xception_predictions[0]]\n",
    "img_data\n",
    "#test accuracy\n",
    "test_accuracy = 100*np.sum(np.array(xception_predictions)==np.argmax(test_targets, axis=1))/len(xception_predictions)\n",
    "print('Test accuracy: %.4f%%' % test_accuracy)\n",
    "\n",
    "    \n",
    "        "
   ]
  },
  {
   "cell_type": "code",
   "execution_count": null,
   "metadata": {},
   "outputs": [],
   "source": [
    "# dict to count colonies\n",
    "counter = {}\n",
    "# load the image\n",
    "image_orig = cv2.imread(test_img_path)\n",
    "#height_orig, width_orig = image_orig.shape[:2]\n",
    "# output image with contours\n",
    "image_contours = image_orig.copy()\n",
    "color='blue'\n",
    "# copy of original image\n",
    "image_to_process = image_orig.copy()\n",
    "# initializes counter\n",
    "counter[color] = 0\n",
    "# define NumPy arrays of color boundaries (GBR vectors)\n",
    "lower = np.array([ 60, 100,  20])\n",
    "upper = np.array([170, 180, 150])\n",
    "# find the colors within the specified boundaries\n",
    "image_mask = cv2.inRange(image_to_process, lower, upper)\n",
    "# apply the mask\n",
    "image_res = cv2.bitwise_and(image_to_process, image_to_process, mask = image_mask)\n",
    "## load the image, convert it to grayscale, and blur it slightly\n",
    "image_gray = cv2.cvtColor(image_res, cv2.COLOR_BGR2GRAY)\n",
    "image_gray = cv2.GaussianBlur(image_gray, (5, 5), 0)\n",
    "image_edged = cv2.Canny(image_gray, 50, 100)\n",
    "image_edged = cv2.dilate(image_edged, None, iterations=1)\n",
    "image_edged = cv2.erode(image_edged, None, iterations=1)\n",
    " \n",
    "    # find contours in the edge map\n",
    "cnts,_ = cv2.findContours(image_edged.copy(), cv2.RETR_EXTERNAL, cv2.CHAIN_APPROX_SIMPLE)\n",
    "#cnts = cnts[0] if imutils.is_cv2() else cnts[1]\n",
    " \n",
    "    # loop over the contours individually\n",
    "for c in cnts:\n",
    "    hull = cv2.convexHull(c)\n",
    "    if color == 'blue':\n",
    "            # prints contours in red color\n",
    "        cv2.drawContours(image_contours,[hull],0,(0,0,255),1)\n",
    "       \n",
    " \n",
    "        counter[color] += 1\n",
    "        #cv2.putText(image_contours, \"{:.0f}\".format(cv2.contourArea(c)), (int(hull[0][0][0]), int(hull[0][0][1])), cv2.FONT_HERSHEY_SIMPLEX, 0.65, (255, 255, 255), 2)\n",
    " \n",
    "    # Print the number of colonies of each color\n",
    "count=counter[color]\n",
    "print(count) \n",
    "if count >= 15:\n",
    "    if name == 'Eosinophil' :\n",
    "        print(name)\n",
    "        print(\"parasitic infection\")\n",
    "    elif name == 'Lymphocyte' :\n",
    "        print(\"viral infection\")\n",
    "    elif name == 'Monocyte' :\n",
    "        print(name)\n",
    "        print(\"inflamatory disease\")\n",
    "    elif name== 'Neutrophil' :\n",
    "        print(\"bacterial infection\")\n",
    "    else:\n",
    "        print(\"diseased\")\n",
    "elif count <5:\n",
    "    if name == 'Eosinophil' :\n",
    "        print(name)\n",
    "        print(\"parasitic infection\")\n",
    "    elif name == 'Lymphocyte' :\n",
    "        print(\"viral infection\")\n",
    "    elif name == 'Monocyte' :\n",
    "        print(name)\n",
    "        print(\"inflamatory disease\")\n",
    "    elif name== 'Neutrophil' :\n",
    "        print(\"bacterial infection\")\n",
    "else :\n",
    "    print(name)\n",
    "    print(\"not diseased\")"
   ]
  },
  {
   "cell_type": "code",
   "execution_count": null,
   "metadata": {},
   "outputs": [],
   "source": []
  }
 ],
 "metadata": {
  "kernelspec": {
   "display_name": "Python 3",
   "language": "python",
   "name": "python3"
  },
  "language_info": {
   "codemirror_mode": {
    "name": "ipython",
    "version": 3
   },
   "file_extension": ".py",
   "mimetype": "text/x-python",
   "name": "python",
   "nbconvert_exporter": "python",
   "pygments_lexer": "ipython3",
   "version": "3.7.1"
  }
 },
 "nbformat": 4,
 "nbformat_minor": 2
}
