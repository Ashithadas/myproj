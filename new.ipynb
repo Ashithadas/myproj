{
 "cells": [
  {
   "cell_type": "code",
   "execution_count": 1,
   "metadata": {},
   "outputs": [
    {
     "name": "stderr",
     "output_type": "stream",
     "text": [
      "Using TensorFlow backend.\n"
     ]
    }
   ],
   "source": [
    "from sklearn.datasets import load_files       \n",
    "from keras.utils import np_utils\n",
    "import numpy as np\n",
    "from glob import glob\n",
    "from keras.preprocessing import image                  \n",
    "from tqdm import tqdm\n",
    "from PIL import ImageFile                            \n",
    "ImageFile.LOAD_TRUNCATED_IMAGES = True      \n",
    "from sklearn.model_selection import train_test_split\n",
    "from matplotlib import pyplot as plt\n",
    "%matplotlib inline"
   ]
  },
  {
   "cell_type": "code",
   "execution_count": 2,
   "metadata": {},
   "outputs": [],
   "source": [
    "# define function to load train, test, and validation datasets\n",
    "def load_dataset(path):\n",
    "    data = load_files(path)\n",
    "    cell_files = np.array(data['filenames'])\n",
    "    cell_targets = np_utils.to_categorical(np.array(data['target']), 4)\n",
    "    return cell_files, cell_targets"
   ]
  },
  {
   "cell_type": "code",
   "execution_count": 3,
   "metadata": {},
   "outputs": [],
   "source": [
    "\n",
    "# load train, test, and validation datasets\n",
    "train_files, train_targets = load_dataset('datasets/TRAIN')\n",
    "test_files, test_targets = load_dataset('datasets/TEST')"
   ]
  },
  {
   "cell_type": "code",
   "execution_count": 4,
   "metadata": {},
   "outputs": [],
   "source": [
    "#split training sets into validation and training set \n",
    "train_files, validation_files, train_targets, validation_targets = train_test_split(train_files, train_targets, test_size = 0.33, random_state=42)\n",
    "\n"
   ]
  },
  {
   "cell_type": "code",
   "execution_count": 5,
   "metadata": {},
   "outputs": [
    {
     "name": "stdout",
     "output_type": "stream",
     "text": [
      "There are 3340 total white blood cell images.\n",
      "\n",
      "There are 1340 training white blood cell images.\n",
      "There are 660 validation white blood cell images.\n",
      "There are 2000 test white blood cell images.\n"
     ]
    }
   ],
   "source": [
    "# print statistics about the dataset\n",
    "print('There are %s total white blood cell images.\\n' % len(np.hstack([train_files, test_files])))\n",
    "print('There are %d training white blood cell images.' % len(train_files))\n",
    "print('There are %d validation white blood cell images.'% len(validation_files))\n",
    "print('There are %d test white blood cell images.'% len(test_files))"
   ]
  },
  {
   "cell_type": "code",
   "execution_count": 6,
   "metadata": {},
   "outputs": [
    {
     "name": "stdout",
     "output_type": "stream",
     "text": [
      "image preprocessed with keras\n"
     ]
    }
   ],
   "source": [
    "#preprocess\n",
    "def path_to_tensor(img_path):\n",
    "    # loads RGB image as PIL.Image.Image type\n",
    "    img = image.load_img(img_path, target_size=(224, 224))\n",
    "    # convert PIL.Image.Image type to 3D tensor with shape (224, 224, 3)\n",
    "    x = image.img_to_array(img)\n",
    "    # convert 3D tensor to 4D tensor with shape (1, 224, 224, 3) and return 4D tensor\n",
    "    return np.expand_dims(x, axis=0)\n",
    "\n",
    "def paths_to_tensor(img_paths):\n",
    "    list_of_tensors = (path_to_tensor(img_path) \n",
    "    for img_path in tqdm(img_paths))\n",
    "    return np.vstack(list_of_tensors)\n",
    "print('image preprocessed with keras') "
   ]
  },
  {
   "cell_type": "code",
   "execution_count": 7,
   "metadata": {},
   "outputs": [
    {
     "name": "stderr",
     "output_type": "stream",
     "text": [
      "  0%|          | 0/1340 [00:00<?, ?it/s]/home/user/anaconda3/lib/python3.7/site-packages/ipykernel_launcher.py:13: FutureWarning: arrays to stack must be passed as a \"sequence\" type such as list or tuple. Support for non-sequence iterables such as generators is deprecated as of NumPy 1.16 and will raise an error in the future.\n",
      "  del sys.path[0]\n",
      "100%|██████████| 1340/1340 [00:02<00:00, 617.40it/s]\n",
      "100%|██████████| 2000/2000 [00:02<00:00, 838.49it/s]\n",
      "100%|██████████| 660/660 [00:00<00:00, 874.29it/s]\n"
     ]
    }
   ],
   "source": [
    "# pre-process the data for Keras\n",
    "train_tensors = paths_to_tensor(train_files).astype('float32')/255\n",
    "test_tensors = paths_to_tensor(test_files).astype('float32')/255\n",
    "valid_tensors = paths_to_tensor(validation_files).astype('float32')/255"
   ]
  },
  {
   "cell_type": "code",
   "execution_count": 8,
   "metadata": {},
   "outputs": [
    {
     "name": "stdout",
     "output_type": "stream",
     "text": [
      "Train Images Shape: (1340, 224, 224, 3) size: 201,707,520\n",
      "Validation Images Shape: (660, 224, 224, 3) size: 99,348,480\n",
      "Test Images Shape: (2000, 224, 224, 3) size: 301,056,000\n"
     ]
    }
   ],
   "source": [
    "print('Train Images Shape: {} size: {:,}'.format(train_tensors.shape, train_tensors.size))\n",
    "print('Validation Images Shape: {} size: {:,}'.format(valid_tensors.shape, valid_tensors.size))\n",
    "print('Test Images Shape: {} size: {:,}'.format(test_tensors.shape, test_tensors.size))"
   ]
  },
  {
   "cell_type": "code",
   "execution_count": 9,
   "metadata": {},
   "outputs": [],
   "source": [
    "from sklearn.metrics import log_loss, accuracy_score\n",
    "from sklearn.metrics import confusion_matrix\n",
    "from keras.preprocessing import image\n",
    "from keras.applications.vgg16 import VGG16\n",
    "from keras.applications import xception\n",
    "from keras.applications import inception_v3\n",
    "from keras.applications.vgg16 import preprocess_input, decode_predictions\n",
    "from sklearn.model_selection import train_test_split\n",
    "from keras.layers import Conv2D, MaxPooling2D, GlobalAveragePooling2D\n",
    "from keras.layers import Dropout, Flatten, Dense\n",
    "from keras.models import Sequential\n",
    "from keras.layers.normalization import BatchNormalization\n",
    "from keras.callbacks import ModelCheckpoint"
   ]
  },
  {
   "cell_type": "code",
   "execution_count": 10,
   "metadata": {},
   "outputs": [
    {
     "name": "stdout",
     "output_type": "stream",
     "text": [
      "WARNING:tensorflow:From /home/user/anaconda3/lib/python3.7/site-packages/tensorflow/python/framework/op_def_library.py:263: colocate_with (from tensorflow.python.framework.ops) is deprecated and will be removed in a future version.\n",
      "Instructions for updating:\n",
      "Colocations handled automatically by placer.\n",
      "1340/1340 [==============================] - 387s 289ms/step\n",
      "660/660 [==============================] - 198s 300ms/step\n",
      "2000/2000 [==============================] - 663s 331ms/step\n"
     ]
    }
   ],
   "source": [
    "#Extract Xception features and weights \n",
    "xception_bottleneck = xception.Xception(weights='imagenet', include_top=False, input_shape = (224, 224, 3))\n",
    "train_xception = xception_bottleneck.predict(train_tensors, batch_size = 50, verbose = 1)\n",
    "valid_xception = xception_bottleneck.predict(valid_tensors, batch_size = 50, verbose = 1)\n",
    "test_xception = xception_bottleneck.predict(test_tensors, batch_size = 50, verbose = 1)\n"
   ]
  },
  {
   "cell_type": "code",
   "execution_count": 11,
   "metadata": {},
   "outputs": [
    {
     "name": "stdout",
     "output_type": "stream",
     "text": [
      "Train Images Shape: (1340, 7, 7, 2048) size: 134,471,680\n",
      "Validation Images Shape: (660, 7, 7, 2048) size: 66,232,320\n",
      "Test Images Shape: (2000, 7, 7, 2048) size: 200,704,000\n"
     ]
    }
   ],
   "source": [
    "print('Train Images Shape: {} size: {:,}'.format(train_xception.shape, train_xception.size))\n",
    "print('Validation Images Shape: {} size: {:,}'.format(valid_xception.shape, valid_xception.size))\n",
    "print('Test Images Shape: {} size: {:,}'.format(test_xception.shape, test_xception.size))"
   ]
  },
  {
   "cell_type": "code",
   "execution_count": 12,
   "metadata": {},
   "outputs": [
    {
     "name": "stdout",
     "output_type": "stream",
     "text": [
      "_________________________________________________________________\n",
      "Layer (type)                 Output Shape              Param #   \n",
      "=================================================================\n",
      "conv2d_5 (Conv2D)            (None, 7, 7, 32)          589856    \n",
      "_________________________________________________________________\n",
      "global_average_pooling2d_1 ( (None, 32)                0         \n",
      "_________________________________________________________________\n",
      "dense_1 (Dense)              (None, 4)                 132       \n",
      "=================================================================\n",
      "Total params: 589,988\n",
      "Trainable params: 589,988\n",
      "Non-trainable params: 0\n",
      "_________________________________________________________________\n"
     ]
    }
   ],
   "source": [
    "input_shape = train_xception.shape[1:]\n",
    "model = Sequential()\n",
    "model.add(Conv2D(filters=32, kernel_size=(3,3), padding='same', kernel_initializer='he_normal', activation='relu', input_shape = train_xception.shape[1:]))\n",
    "model.add(GlobalAveragePooling2D(input_shape=train_xception.shape[1:]))\n",
    "model.add(Dense(4, activation='softmax'))\n",
    "model.summary()"
   ]
  },
  {
   "cell_type": "code",
   "execution_count": 13,
   "metadata": {},
   "outputs": [],
   "source": [
    "# Compile the model.\n",
    "model.compile(loss='categorical_crossentropy', optimizer='rmsprop', metrics=['accuracy'])\n"
   ]
  },
  {
   "cell_type": "code",
   "execution_count": 14,
   "metadata": {},
   "outputs": [
    {
     "name": "stdout",
     "output_type": "stream",
     "text": [
      "WARNING:tensorflow:From /home/user/anaconda3/lib/python3.7/site-packages/tensorflow/python/ops/math_ops.py:3066: to_int32 (from tensorflow.python.ops.math_ops) is deprecated and will be removed in a future version.\n",
      "Instructions for updating:\n",
      "Use tf.cast instead.\n",
      "Train on 1340 samples, validate on 660 samples\n",
      "Epoch 1/30\n",
      "1340/1340 [==============================] - 11s 8ms/step - loss: 2.1930 - acc: 0.2948 - val_loss: 1.2969 - val_acc: 0.3439\n",
      "\n",
      "Epoch 00001: val_loss improved from inf to 1.29687, saving model to saved_models/weights.best.test.hdf5\n",
      "Epoch 2/30\n",
      "1340/1340 [==============================] - 3s 2ms/step - loss: 1.2666 - acc: 0.3933 - val_loss: 1.1552 - val_acc: 0.5136\n",
      "\n",
      "Epoch 00002: val_loss improved from 1.29687 to 1.15522, saving model to saved_models/weights.best.test.hdf5\n",
      "Epoch 3/30\n",
      "1340/1340 [==============================] - 3s 2ms/step - loss: 1.1838 - acc: 0.4813 - val_loss: 1.1103 - val_acc: 0.5182\n",
      "\n",
      "Epoch 00003: val_loss improved from 1.15522 to 1.11029, saving model to saved_models/weights.best.test.hdf5\n",
      "Epoch 4/30\n",
      "1340/1340 [==============================] - 4s 3ms/step - loss: 1.0891 - acc: 0.5425 - val_loss: 1.1466 - val_acc: 0.4970\n",
      "\n",
      "Epoch 00004: val_loss did not improve from 1.11029\n",
      "Epoch 5/30\n",
      "1340/1340 [==============================] - 9s 7ms/step - loss: 0.9896 - acc: 0.5731 - val_loss: 1.1021 - val_acc: 0.5273\n",
      "\n",
      "Epoch 00005: val_loss improved from 1.11029 to 1.10214, saving model to saved_models/weights.best.test.hdf5\n",
      "Epoch 6/30\n",
      "1340/1340 [==============================] - 5s 4ms/step - loss: 0.9473 - acc: 0.5993 - val_loss: 1.0356 - val_acc: 0.5439\n",
      "\n",
      "Epoch 00006: val_loss improved from 1.10214 to 1.03561, saving model to saved_models/weights.best.test.hdf5\n",
      "Epoch 7/30\n",
      "1340/1340 [==============================] - 4s 3ms/step - loss: 0.8760 - acc: 0.6366 - val_loss: 0.9804 - val_acc: 0.5652\n",
      "\n",
      "Epoch 00007: val_loss improved from 1.03561 to 0.98042, saving model to saved_models/weights.best.test.hdf5\n",
      "Epoch 8/30\n",
      "1340/1340 [==============================] - 3s 2ms/step - loss: 0.8578 - acc: 0.6328 - val_loss: 0.9994 - val_acc: 0.5697\n",
      "\n",
      "Epoch 00008: val_loss did not improve from 0.98042\n",
      "Epoch 9/30\n",
      "1340/1340 [==============================] - 3s 2ms/step - loss: 0.7602 - acc: 0.7119 - val_loss: 0.9764 - val_acc: 0.6076\n",
      "\n",
      "Epoch 00009: val_loss improved from 0.98042 to 0.97637, saving model to saved_models/weights.best.test.hdf5\n",
      "Epoch 10/30\n",
      "1340/1340 [==============================] - 3s 2ms/step - loss: 0.7326 - acc: 0.7149 - val_loss: 0.9961 - val_acc: 0.5955\n",
      "\n",
      "Epoch 00010: val_loss did not improve from 0.97637\n",
      "Epoch 11/30\n",
      "1340/1340 [==============================] - 3s 2ms/step - loss: 0.6427 - acc: 0.7530 - val_loss: 0.9187 - val_acc: 0.6076\n",
      "\n",
      "Epoch 00011: val_loss improved from 0.97637 to 0.91869, saving model to saved_models/weights.best.test.hdf5\n",
      "Epoch 12/30\n",
      "1340/1340 [==============================] - 5s 3ms/step - loss: 0.6482 - acc: 0.7560 - val_loss: 0.9106 - val_acc: 0.6258\n",
      "\n",
      "Epoch 00012: val_loss improved from 0.91869 to 0.91060, saving model to saved_models/weights.best.test.hdf5\n",
      "Epoch 13/30\n",
      "1340/1340 [==============================] - 5s 3ms/step - loss: 0.5924 - acc: 0.7806 - val_loss: 1.4242 - val_acc: 0.4515\n",
      "\n",
      "Epoch 00013: val_loss did not improve from 0.91060\n",
      "Epoch 14/30\n",
      "1340/1340 [==============================] - 3s 3ms/step - loss: 0.5460 - acc: 0.7851 - val_loss: 1.0379 - val_acc: 0.6000\n",
      "\n",
      "Epoch 00014: val_loss did not improve from 0.91060\n",
      "Epoch 15/30\n",
      "1340/1340 [==============================] - 4s 3ms/step - loss: 0.5214 - acc: 0.8022 - val_loss: 0.9592 - val_acc: 0.6348\n",
      "\n",
      "Epoch 00015: val_loss did not improve from 0.91060\n",
      "Epoch 16/30\n",
      "1340/1340 [==============================] - 4s 3ms/step - loss: 0.5185 - acc: 0.8149 - val_loss: 0.9957 - val_acc: 0.6182\n",
      "\n",
      "Epoch 00016: val_loss did not improve from 0.91060\n",
      "Epoch 17/30\n",
      "1340/1340 [==============================] - 3s 3ms/step - loss: 0.4501 - acc: 0.8470 - val_loss: 1.2967 - val_acc: 0.4985\n",
      "\n",
      "Epoch 00017: val_loss did not improve from 0.91060\n",
      "Epoch 18/30\n",
      "1340/1340 [==============================] - 4s 3ms/step - loss: 0.3739 - acc: 0.8739 - val_loss: 1.2458 - val_acc: 0.5561\n",
      "\n",
      "Epoch 00018: val_loss did not improve from 0.91060\n",
      "Epoch 19/30\n",
      "1340/1340 [==============================] - 4s 3ms/step - loss: 0.4128 - acc: 0.8440 - val_loss: 0.9515 - val_acc: 0.6364\n",
      "\n",
      "Epoch 00019: val_loss did not improve from 0.91060\n",
      "Epoch 20/30\n",
      "1340/1340 [==============================] - 3s 2ms/step - loss: 0.3531 - acc: 0.8739 - val_loss: 1.2359 - val_acc: 0.5894\n",
      "\n",
      "Epoch 00020: val_loss did not improve from 0.91060\n",
      "Epoch 21/30\n",
      "1340/1340 [==============================] - 4s 3ms/step - loss: 0.2918 - acc: 0.9082 - val_loss: 1.1567 - val_acc: 0.6212\n",
      "\n",
      "Epoch 00021: val_loss did not improve from 0.91060\n",
      "Epoch 22/30\n",
      "1340/1340 [==============================] - 3s 2ms/step - loss: 0.3170 - acc: 0.8918 - val_loss: 0.9909 - val_acc: 0.6591\n",
      "\n",
      "Epoch 00022: val_loss did not improve from 0.91060\n",
      "Epoch 23/30\n",
      "1340/1340 [==============================] - 4s 3ms/step - loss: 0.2436 - acc: 0.9254 - val_loss: 1.0279 - val_acc: 0.6515\n",
      "\n",
      "Epoch 00023: val_loss did not improve from 0.91060\n",
      "Epoch 24/30\n",
      "1340/1340 [==============================] - 8s 6ms/step - loss: 0.2834 - acc: 0.9022 - val_loss: 1.2420 - val_acc: 0.5742\n",
      "\n",
      "Epoch 00024: val_loss did not improve from 0.91060\n",
      "Epoch 25/30\n",
      "1340/1340 [==============================] - 4s 3ms/step - loss: 0.2008 - acc: 0.9418 - val_loss: 1.1772 - val_acc: 0.6076\n",
      "\n",
      "Epoch 00025: val_loss did not improve from 0.91060\n",
      "Epoch 26/30\n",
      "1340/1340 [==============================] - 3s 3ms/step - loss: 0.2350 - acc: 0.9231 - val_loss: 0.9653 - val_acc: 0.6409\n",
      "\n",
      "Epoch 00026: val_loss did not improve from 0.91060\n",
      "Epoch 27/30\n",
      "1340/1340 [==============================] - 4s 3ms/step - loss: 0.2296 - acc: 0.9306 - val_loss: 1.5984 - val_acc: 0.6288\n",
      "\n",
      "Epoch 00027: val_loss did not improve from 0.91060\n",
      "Epoch 28/30\n",
      "1340/1340 [==============================] - 4s 3ms/step - loss: 0.1626 - acc: 0.9597 - val_loss: 1.6835 - val_acc: 0.5576\n",
      "\n",
      "Epoch 00028: val_loss did not improve from 0.91060\n",
      "Epoch 29/30\n",
      "1340/1340 [==============================] - 4s 3ms/step - loss: 0.2125 - acc: 0.9366 - val_loss: 0.9347 - val_acc: 0.6864\n",
      "\n",
      "Epoch 00029: val_loss did not improve from 0.91060\n",
      "Epoch 30/30\n",
      "1340/1340 [==============================] - 4s 3ms/step - loss: 0.1634 - acc: 0.9612 - val_loss: 1.0127 - val_acc: 0.6485\n",
      "\n",
      "Epoch 00030: val_loss did not improve from 0.91060\n"
     ]
    }
   ],
   "source": [
    "#Train the model\n",
    "xception_checkpointer = ModelCheckpoint(filepath='saved_models/weights.best.test.hdf5', verbose=1, save_best_only=True)\n",
    "epochs =30\n",
    "batch_size = 50\n",
    "xception_history = model.fit(train_xception, train_targets, validation_data = (valid_xception, validation_targets),\n",
    "          epochs=epochs, batch_size=batch_size, callbacks=[xception_checkpointer], verbose=1)\n",
    "  "
   ]
  },
  {
   "cell_type": "code",
   "execution_count": 15,
   "metadata": {},
   "outputs": [],
   "source": [
    "# Load the model weights with the best validation loss.\n",
    "model.load_weights('saved_models/weights.best.test.hdf5')\n",
    "   "
   ]
  },
  {
   "cell_type": "code",
   "execution_count": 21,
   "metadata": {},
   "outputs": [],
   "source": [
    "#Test the model\n",
    "xception_predictions = [np.argmax(model.predict(np.expand_dims(feature, axis=0))) for feature in test_xception]\n",
    "\n",
    "\n"
   ]
  },
  {
   "cell_type": "code",
   "execution_count": 17,
   "metadata": {},
   "outputs": [
    {
     "data": {
      "image/png": "[encoded data removed]",
      "text/plain": [
       "<Figure size 432x288 with 1 Axes>"
      ]
     },
     "metadata": {
      "needs_background": "light"
     },
     "output_type": "display_data"
    }
   ],
   "source": [
    "# Visualize Xception Accuracy Score \n",
    "plt.plot(xception_history.history['acc'])\n",
    "plt.plot(xception_history.history['val_acc'])\n",
    "plt.title('Xception Transfer Learning Model Accuracy')\n",
    "plt.ylabel('Accuracy')\n",
    "plt.xlabel('Epoch')\n",
    "plt.legend(['train', 'test'], loc='upper left')\n",
    "plt.show()\n"
   ]
  },
  {
   "cell_type": "code",
   "execution_count": 18,
   "metadata": {},
   "outputs": [
    {
     "data": {
      "image/png": "[encoded data removed]",
      "text/plain": [
       "<Figure size 432x288 with 1 Axes>"
      ]
     },
     "metadata": {
      "needs_background": "light"
     },
     "output_type": "display_data"
    }
   ],
   "source": [
    "#Visualize Xception Model Loss\n",
    "plt.plot(xception_history.history['loss'])\n",
    "plt.plot(xception_history.history['val_loss'])\n",
    "plt.title('Xception Transfer Learning Model Loss')\n",
    "plt.ylabel('Loss')\n",
    "plt.xlabel('Epoch')\n",
    "plt.legend(['train', 'test'], loc='upper left')\n",
    "plt.show()\n"
   ]
  },
  {
   "cell_type": "code",
   "execution_count": 22,
   "metadata": {},
   "outputs": [
    {
     "name": "stdout",
     "output_type": "stream",
     "text": [
      "Train accuracy: 82.7612%\n"
     ]
    }
   ],
   "source": [
    "#Test the model\n",
    "xception_predictions = [np.argmax(model.predict(np.expand_dims(feature, axis=0))) for feature in train_xception]\n",
    "\n",
    "#test accuracy\n",
    "train_accuracy = 100*np.sum(np.array(xception_predictions)==np.argmax(train_targets, axis=1))/len(xception_predictions)\n",
    "print('Train accuracy: %.4f%%' % train_accuracy)"
   ]
  },
  {
   "cell_type": "code",
   "execution_count": null,
   "metadata": {},
   "outputs": [],
   "source": []
  }
 ],
 "metadata": {
  "kernelspec": {
   "display_name": "Python 3",
   "language": "python",
   "name": "python3"
  },
  "language_info": {
   "codemirror_mode": {
    "name": "ipython",
    "version": 3
   },
   "file_extension": ".py",
   "mimetype": "text/x-python",
   "name": "python",
   "nbconvert_exporter": "python",
   "pygments_lexer": "ipython3",
   "version": "3.7.1"
  }
 },
 "nbformat": 4,
 "nbformat_minor": 2
}
