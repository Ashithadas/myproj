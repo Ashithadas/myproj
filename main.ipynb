{
 "cells": [
  {
   "cell_type": "code",
   "execution_count": 1,
   "metadata": {},
   "outputs": [
    {
     "name": "stderr",
     "output_type": "stream",
     "text": [
      "Using TensorFlow backend.\n"
     ]
    }
   ],
   "source": [
    "from tkinter import *\n",
    "from PIL import Image\n",
    "from PIL import ImageTk\n",
    "from tkinter import filedialog\n",
    "import cv2\n",
    "from keras.models import load_model\n",
    "import numpy as np\n",
    "from keras.applications import xception\n",
    "import imutils\n"
   ]
  },
  {
   "cell_type": "code",
   "execution_count": 2,
   "metadata": {},
   "outputs": [],
   "source": [
    "def select_image():\n",
    "\t# grab a reference to the image panels\n",
    "\tglobal panelA, panelB, panelC, path, disease, name\n",
    "\tpath = filedialog.askopenfilename()\n",
    "\tif len(path) > 0:\n",
    "\t\tim = Image.open(path)\n",
    "\t\tim = ImageTk.PhotoImage(im)\n",
    "\t\tif panelA is None or panelB is None or panelC is None:\n",
    "\t\t\tpanelA = Label(image=im)\n",
    "\t\t\tpanelA.image = im\n",
    "\t\t\tpanelA.pack(side=\"left\", padx=10, pady=10)\n",
    "\t\telse:\n",
    "\t\t\tpanelA.configure(image=im)\n",
    "\t\t\tpanelA.image = im\n"
   ]
  },
  {
   "cell_type": "code",
   "execution_count": 3,
   "metadata": {},
   "outputs": [],
   "source": [
    "def process():\n",
    "\tglobal panelA, panelB, panelC, path, disease, name\n",
    "\ttest_img_path=path\n",
    "\timg_data=Image.open(test_img_path)\n",
    "\timg=img_data.resize((224,224), Image.ANTIALIAS)\n",
    "\tx = np.array(img)\n",
    "\ty=np.expand_dims(x, axis=0)\n",
    "\timage = y.astype('float32')/255\n",
    "\t#Extract Xception features and weights \n",
    "\txception_bottleneck = xception.Xception(weights='imagenet', include_top=False, input_shape = (224, 224, 3))\n",
    "\tpreds = xception_bottleneck.predict(image, batch_size=32, verbose=1)\n",
    "\tmodel = load_model('saved_models/weights.best.test.hdf5')\n",
    "\txception_predictions = [np.argmax(model.predict(np.expand_dims(feature, axis=0))) for feature in preds]\n",
    "\txception_predictions[0]\n",
    "\tclasses = ['Eosinophil','Lymphocyte','Monocyte','Neutrophil']\n",
    "\tname=classes[xception_predictions[0]]\n",
    "\tpanelB=Label(root,text=name,bg='gold',fg='blue')\n",
    "\t#label3=Label(root,text=name,bg='gold',fg='blue')\n",
    "\tpanelB.pack(side=\"right\", padx=10, pady=10)"
   ]
  },
  {
   "cell_type": "code",
   "execution_count": 4,
   "metadata": {},
   "outputs": [],
   "source": [
    "def count():\n",
    "\tglobal panelA, panelB, panelC, path, disease, name,count\n",
    "# dict to count colonies\n",
    "\tcounter = {}\n",
    "# load the image\n",
    "\ttest_img_path=path\n",
    "\timage_orig = cv2.imread(test_img_path)\n",
    "#height_orig, width_orig = image_orig.shape[:2]\n",
    "# output image with contours\n",
    "\timage_contours = image_orig.copy()\n",
    "\tcolor='blue'\n",
    "# copy of original image\n",
    "\timage_to_process = image_orig.copy()\n",
    "# initializes counter\n",
    "\tcounter[color] = 0\n",
    "# define NumPy arrays of color boundaries (GBR vectors)\n",
    "\tlower = np.array([ 60, 100,  20])\n",
    "\tupper = np.array([170, 180, 150])\n",
    "# find the colors within the specified boundaries\n",
    "\timage_mask = cv2.inRange(image_to_process, lower, upper)\n",
    "# apply the mask\n",
    "\timage_res = cv2.bitwise_and(image_to_process, image_to_process, mask = image_mask)\n",
    "\timage_gray = cv2.cvtColor(image_res, cv2.COLOR_BGR2GRAY)\n",
    "\timage_gray = cv2.GaussianBlur(image_gray, (5, 5), 0)\n",
    "\timage_edged = cv2.Canny(image_gray, 50, 100)\n",
    "\timage_edged = cv2.dilate(image_edged, None, iterations=1)\n",
    "\timage_edged = cv2.erode(image_edged, None, iterations=1)\n",
    "\tcnts,_ = cv2.findContours(image_edged.copy(), cv2.RETR_EXTERNAL, cv2.CHAIN_APPROX_SIMPLE)\n",
    "\t#cnts = cnts[0] if imutils.is_cv2() else cnts[1]\n",
    " \n",
    "\tfor c in cnts:\n",
    "\t\thull = cv2.convexHull(c)\n",
    "\t\tif color == 'blue':\n",
    "            # prints contours in red color\n",
    "\t\t\tcv2.drawContours(image_contours,[hull],0,(0,0,255),1)\n",
    "\t\t\tcounter[color] += 1\n",
    "       \n",
    "\tcount=counter[color]  \n",
    "\n",
    "\n",
    "\n",
    "    # find contours in the edge map\n",
    "\n",
    "\tif count >= 15 :\n",
    "\t\tif name == 'Eosinophil' :\n",
    "\t\t\tdisease=\"parasitic infection\"\n",
    "\t\telif name == 'Lymphocyte' :\n",
    "\t\t\tdisease=\"viral infection\"\n",
    "\t\telif name == 'Monocyte' :\n",
    "\t\t\tdisease=\"inflamatory disease\"\n",
    "\t\telif name== 'Neutrophil' :\n",
    "\t\t\tdisease=\"bacterial infection\"\n",
    "\t\telse:\n",
    "\t\t\tdisease=\"diseased\"\n",
    "\telif count <= 2 :\n",
    "\t\tif name == 'Eosinophil' :\n",
    "\t\t\tdisease=\"parasitic infection\"\n",
    "\t\telif name == 'Lymphocyte' :\n",
    "\t\t\tdisease=\"viral infection\"\n",
    "\t\telif name == 'Monocyte' :\n",
    "\t\t\tdisease=\"inflamatory disease\"\n",
    "\t\telif name== 'Neutrophil' :\n",
    "\t\t\tdisease=\"bacterial infection\"\n",
    "\telse :\n",
    "\t\t#print(name)\n",
    "\t\tdisease=\"not diseased\"\n",
    "\tpanelC=Label(root,text=disease,bg='gold',fg='blue')\n",
    "\t#label3=Label(root,text=name,bg='gold',fg='blue')\n",
    "\tpanelC.pack(side=\"right\", padx=10, pady=10)\n"
   ]
  },
  {
   "cell_type": "code",
   "execution_count": 5,
   "metadata": {},
   "outputs": [],
   "source": [
    "def exits():\n",
    "    root.destroy()\n"
   ]
  },
  {
   "cell_type": "code",
   "execution_count": 9,
   "metadata": {},
   "outputs": [
    {
     "name": "stdout",
     "output_type": "stream",
     "text": [
      "\r",
      "1/1 [==============================] - 2s 2s/step\n"
     ]
    }
   ],
   "source": [
    "root = Tk()\n",
    "panelA = None\n",
    "panelB = None\n",
    "panelC = None\n",
    "# create a button, then when pressed, will trigger a file chooser\n",
    "# dialog and allow the user to select an input image; then add the\n",
    "# button the GUI\n",
    "btn = Button(root, text=\"Select an image\", command=select_image)\n",
    "btn.pack(side=\"top\", fill=\"both\", padx=\"5\", pady=\"10\")\n",
    "btn1 = Button(root, text=\"classify\", command=process)\n",
    "btn1.pack(side=\"top\", fill=\"both\", padx=\"5\", pady=\"10\")\n",
    "btn2 = Button(root, text=\"Disease\", command=count)\n",
    "btn2.pack(side=\"top\", fill=\"both\", padx=\"5\", pady=\"10\")\n",
    "btn3 = Button(root, text=\"exit\", command=exits)\n",
    "btn3.pack(side=\"top\", fill=\"both\", padx=\"5\", pady=\"10\")\n",
    "\n",
    "\n",
    "\n",
    "\n",
    "# kick off the GUI\n",
    "root.mainloop()\n"
   ]
  },
  {
   "cell_type": "code",
   "execution_count": null,
   "metadata": {},
   "outputs": [],
   "source": []
  },
  {
   "cell_type": "code",
   "execution_count": null,
   "metadata": {},
   "outputs": [],
   "source": []
  }
 ],
 "metadata": {
  "kernelspec": {
   "display_name": "Python 3",
   "language": "python",
   "name": "python3"
  },
  "language_info": {
   "codemirror_mode": {
    "name": "ipython",
    "version": 3
   },
   "file_extension": ".py",
   "mimetype": "text/x-python",
   "name": "python",
   "nbconvert_exporter": "python",
   "pygments_lexer": "ipython3",
   "version": "3.7.1"
  }
 },
 "nbformat": 4,
 "nbformat_minor": 2
}
