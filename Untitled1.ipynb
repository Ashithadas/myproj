{
 "cells": [
  {
   "cell_type": "code",
   "execution_count": 20,
   "metadata": {},
   "outputs": [
    {
     "ename": "ImportError",
     "evalue": "cannot import name 'Imagetk' from 'PIL' (/home/user/anaconda3/lib/python3.7/site-packages/PIL/__init__.py)",
     "output_type": "error",
     "traceback": [
      "\u001b[0;31m---------------------------------------------------------------------------\u001b[0m",
      "\u001b[0;31mImportError\u001b[0m                               Traceback (most recent call last)",
      "\u001b[0;32m<ipython-input-20-752f06636559>\u001b[0m in \u001b[0;36m<module>\u001b[0;34m\u001b[0m\n\u001b[1;32m      7\u001b[0m \u001b[0;32mfrom\u001b[0m \u001b[0mtkinter\u001b[0m \u001b[0;32mimport\u001b[0m \u001b[0;34m*\u001b[0m\u001b[0;34m\u001b[0m\u001b[0;34m\u001b[0m\u001b[0m\n\u001b[1;32m      8\u001b[0m \u001b[0;32mfrom\u001b[0m \u001b[0mPIL\u001b[0m \u001b[0;32mimport\u001b[0m \u001b[0mImage\u001b[0m\u001b[0;34m\u001b[0m\u001b[0;34m\u001b[0m\u001b[0m\n\u001b[0;32m----> 9\u001b[0;31m \u001b[0;32mfrom\u001b[0m \u001b[0mPIL\u001b[0m \u001b[0;32mimport\u001b[0m \u001b[0mImagetk\u001b[0m\u001b[0;34m\u001b[0m\u001b[0;34m\u001b[0m\u001b[0m\n\u001b[0m\u001b[1;32m     10\u001b[0m \u001b[0;32mimport\u001b[0m \u001b[0mtkFileDialog\u001b[0m\u001b[0;34m\u001b[0m\u001b[0;34m\u001b[0m\u001b[0m\n\u001b[1;32m     11\u001b[0m \u001b[0;32mimport\u001b[0m \u001b[0mcv2\u001b[0m\u001b[0;34m\u001b[0m\u001b[0;34m\u001b[0m\u001b[0m\n",
      "\u001b[0;31mImportError\u001b[0m: cannot import name 'Imagetk' from 'PIL' (/home/user/anaconda3/lib/python3.7/site-packages/PIL/__init__.py)"
     ]
    }
   ],
   "source": [
    "from PIL import Image\n",
    "from keras.models import load_model\n",
    "import numpy as np\n",
    "from keras.applications import xception\n",
    "import imutils\n",
    "import cv2\n",
    "from tkinter import *\n",
    "from PIL import Image\n",
    "from PIL import Imagetk\n",
    "import tkFileDialog\n",
    "import cv2\n",
    "\n"
   ]
  },
  {
   "cell_type": "code",
   "execution_count": 2,
   "metadata": {},
   "outputs": [],
   "source": [
    "gui = Tk()\n",
    "gui.title('Machine Learning GUI')\n",
    "gui.geometry('600x600')\n",
    "progress_bar = ttk.Progressbar(orient = 'horizontal', length=600, mode='determinate')\n",
    "progress_bar.grid(row=150, columnspan=3, pady =10)\n"
   ]
  },
  {
   "cell_type": "code",
   "execution_count": 3,
   "metadata": {},
   "outputs": [],
   "source": [
    "def data():\n",
    "    global filename\n",
    "    filename = askopenfilename(initialdir='C:\\\\',title = \"Select file\")\n",
    "    e1.delete(0, END)\n",
    "    e1.insert(0, filename)\n",
    "    #e1.config(text=filename)\n",
    "    #print(filename)\n",
    "    import pandas as pd\n",
    "    global test_img_path\n",
    "    test_img_path = pd.read_csv(filename)\n",
    "    global col\n",
    "    col = list(file1.head(0))\n",
    "    #print(col)\n",
    "\n",
    "    for i in range(len(col)):\n",
    "        box1.insert(i+1, col[i])"
   ]
  },
  {
   "cell_type": "code",
   "execution_count": 4,
   "metadata": {},
   "outputs": [],
   "source": [
    "def process():\n",
    "\ttest_img_path = \"l3.jpeg\"\n",
    "\timg_data=Image.open(test_img_path)\n",
    "\timg=img_data.resize((224,224), Image.ANTIALIAS)\n",
    "\tx = np.array(img)\n",
    "\ty=np.expand_dims(x, axis=0)\n",
    "\timage = y.astype('float32')/255\n",
    "\t#Extract Xception features and weights \n",
    "\txception_bottleneck = xception.Xception(weights='imagenet', include_top=False, input_shape = (224, 224, 3))\n",
    "\tpreds = xception_bottleneck.predict(image, batch_size=32, verbose=1)\n",
    "\tmodel = load_model('saved_models/weights.best.test.hdf5')\n",
    "\txception_predictions = [np.argmax(model.predict(np.expand_dims(feature, axis=0))) for feature in preds]\n",
    "\txception_predictions[0]\n",
    "\tclasses = ['Eosinophil','Lymphocyte','Monocyte','Neutrophil','Basophil']\n",
    "\tname=classes[xception_predictions[0]]"
   ]
  },
  {
   "cell_type": "code",
   "execution_count": 15,
   "metadata": {},
   "outputs": [],
   "source": [
    "def count():\n",
    "\tcounter = {}\n",
    "\timage_orig = cv2.imread(test_img_path)\n",
    "\timage_contours = image_orig.copy()\n",
    "\tcolor='blue'\n",
    "\timage_to_process = image_orig.copy()\n",
    "\tcounter[color] = 0\n",
    "\tlower = np.array([ 60, 100,  20])\n",
    "\tupper = np.array([170, 180, 150])\n",
    "\timage_mask = cv2.inRange(image_to_process, lower, upper)\n",
    "\timage_res = cv2.bitwise_and(image_to_process, image_to_process, mask = image_mask)\n",
    "\timage_gray = cv2.cvtColor(image_res, cv2.COLOR_BGR2GRAY)\n",
    "\timage_gray = cv2.GaussianBlur(image_gray, (5, 5), 0)\n",
    "\timage_edged = cv2.Canny(image_gray, 50, 100)\n",
    "\timage_edged = cv2.dilate(image_edged, None, iterations=1)\n",
    "\timage_edged = cv2.erode(image_edged, None, iterations=1)\n",
    "\tcnts,_ = cv2.findContours(image_edged.copy(), cv2.RETR_EXTERNAL, cv2.CHAIN_APPROX_SIMPLE)\n",
    "\tcnts = cnts[0] if imutils.is_cv2() else cnts[1]\n",
    "\n",
    "\tfor c in cnts:\n",
    "\n",
    "\t\thull = cv2.convexHull(c)\n",
    "\t\tif color == 'blue':\n",
    "\t\t\tcv2.drawContours(image_contours,[hull],0,(0,0,255),1)\n",
    "\t\t\tcounter[color] += 1\n",
    "\n",
    "\tcount=counter[color]\n",
    "\tif count > 10 and name == 'Lymphocyte':\n",
    "\t\tprint(count)\n",
    "\t\tprint(name)\n",
    "\t\tprint(\"diseased\")\n",
    "\telse :\n",
    "\t\tprint(count)\n",
    "\t\tprint(name)\n",
    "\t\tprint(\"not diseased\")\n"
   ]
  },
  {
   "cell_type": "code",
   "execution_count": 16,
   "metadata": {},
   "outputs": [],
   "source": [
    "def clear():\n",
    "\tpass"
   ]
  },
  {
   "cell_type": "code",
   "execution_count": 17,
   "metadata": {},
   "outputs": [],
   "source": [
    "l1=Label(gui, text='Select Data File')\n",
    "l1.grid(row=0, column=0)\n",
    "e1 = Entry(gui,text='')\n",
    "e1.grid(row=0, column=1)"
   ]
  },
  {
   "cell_type": "code",
   "execution_count": 18,
   "metadata": {},
   "outputs": [],
   "source": [
    "Button(gui,text='open', command=data).grid(row=0, column=2)\n",
    "\n",
    "box1 = Listbox(gui,selectmode='multiple')\n",
    "box1.grid(row=10, column=0)\n",
    "Button(gui, text='Clear All',command=clear).grid(row=12,column=0)\n",
    "\n",
    "Button(gui, text='class', command=process).grid(row=20, column=1)\n",
    "\n",
    "Button(gui, text='count', command=count).grid(row=20, column=1)\n"
   ]
  },
  {
   "cell_type": "code",
   "execution_count": null,
   "metadata": {},
   "outputs": [],
   "source": []
  }
 ],
 "metadata": {
  "kernelspec": {
   "display_name": "Python 3",
   "language": "python",
   "name": "python3"
  },
  "language_info": {
   "codemirror_mode": {
    "name": "ipython",
    "version": 3
   },
   "file_extension": ".py",
   "mimetype": "text/x-python",
   "name": "python",
   "nbconvert_exporter": "python",
   "pygments_lexer": "ipython3",
   "version": "3.7.1"
  }
 },
 "nbformat": 4,
 "nbformat_minor": 2
}
