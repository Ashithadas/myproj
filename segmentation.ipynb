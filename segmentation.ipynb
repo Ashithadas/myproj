{
 "cells": [
  {
   "cell_type": "code",
   "execution_count": 1,
   "metadata": {},
   "outputs": [],
   "source": [
    "import os\n",
    "import cv2\n",
    "import numpy as np\n",
    "import pandas as pd\n",
    "import skimage\n",
    "from sklearn.cluster import KMeans\n",
    "from sklearn.cluster import MiniBatchKMeans\n",
    "from matplotlib import pyplot as plt\n",
    "from PIL import Image, ImageEnhance\n",
    "%matplotlib inline\n"
   ]
  },
  {
   "cell_type": "code",
   "execution_count": 2,
   "metadata": {},
   "outputs": [],
   "source": [
    "ds_path = \"./images\"\n",
    "img_files = os.listdir(ds_path)"
   ]
  },
  {
   "cell_type": "code",
   "execution_count": 3,
   "metadata": {},
   "outputs": [],
   "source": [
    "def run():\n",
    "    for file in img_files:\n",
    "        imgpath = ds_path + \"\\\\\" + file\n",
    "        image = cv2.imread(imgpath)\n",
    "        \n",
    "         #preprocessing\n",
    "        rgb = cv2.cvtColor(image, cv2.COLOR_BGR2RGB)\n",
    "        denois = cv2.fastNlMeansDenoising(rgb, None, 1, 13)\n",
    "        sharpen= cv2.GaussianBlur(denois, (9,9), 10.0)\n",
    "        sharp = cv2.addWeighted(denois, 1.5, sharpen, -0.5, 0, rgb)\n",
    "    \n",
    "         #segmentation\n",
    "        (h1, w1) = sharp.shape[:2]\n",
    "        seg = cv2.cvtColor(sharp, cv2.COLOR_RGB2LAB)\n",
    "        seg = sharp.reshape((sharp.shape[0] * sharp.shape[1], 3))\n",
    "        clt = KMeans(n_clusters = 6)\n",
    "        labels1 = clt.fit_predict(seg)\n",
    "        quant1 = clt.cluster_centers_.astype(\"uint8\")[labels1]\n",
    "        quant1 = quant1.reshape((h1, w1, 3))\n",
    "        seg = seg.reshape((h1, w1, 3))\n",
    "\n",
    "    \n",
    "        hsv = cv2.cvtColor(rgb, cv2.COLOR_RGB2HSV)\n",
    "        lower_green = np.array([90,80,160])\n",
    "        upper_green = np.array([150,140,255])\n",
    "        mask = cv2.inRange(hsv, lower_green, upper_green)\n",
    "        plt.imsave('gray.png',mask, cmap = 'gray')\n",
    "        gray=cv2.imread(gray)\n",
    "    \n",
    "        denois1 = cv2.fastNlMeansDenoising(gray, None, 1, 13)\n",
    "        sharpen1= cv2.GaussianBlur(denois1, (9,9), 10.0)\n",
    "        sharp1 = cv2.addWeighted(denois1, 1.5, sharpen1, -0.5, 0, gray)\n",
    "        retval,im = cv2.threshold(sharp1, 125,255,cv2.THRESH_BINARY )\n",
    "    return im"
   ]
  },
  {
   "cell_type": "code",
   "execution_count": null,
   "metadata": {},
   "outputs": [],
   "source": []
  },
  {
   "cell_type": "code",
   "execution_count": null,
   "metadata": {},
   "outputs": [],
   "source": []
  }
 ],
 "metadata": {
  "kernelspec": {
   "display_name": "Python 3",
   "language": "python",
   "name": "python3"
  },
  "language_info": {
   "codemirror_mode": {
    "name": "ipython",
    "version": 3
   },
   "file_extension": ".py",
   "mimetype": "text/x-python",
   "name": "python",
   "nbconvert_exporter": "python",
   "pygments_lexer": "ipython3",
   "version": "3.6.5"
  }
 },
 "nbformat": 4,
 "nbformat_minor": 2
}
